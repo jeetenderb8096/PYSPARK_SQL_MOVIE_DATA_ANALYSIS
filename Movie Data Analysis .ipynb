{
 "cells": [
  {
   "cell_type": "code",
   "execution_count": 1,
   "id": "86eddd77-69e7-441b-9799-3c89605685d8",
   "metadata": {
    "tags": []
   },
   "outputs": [],
   "source": [
    "# Importing all the necessary libaries for movie_data\n",
    "from pyspark.sql import SparkSession\n",
    "from pyspark.sql.types import TimestampType\n",
    "from pyspark.sql import functions as f\n",
    "from pyspark.sql.functions import col, split\n",
    "from pyspark.sql.functions import to_timestamp, current_timestamp, unix_timestamp, from_unixtime\n",
    "from pyspark.sql.types import *"
   ]
  },
  {
   "cell_type": "raw",
   "id": "08a39f66-199d-47ff-9535-eee7978bc035",
   "metadata": {},
   "source": [
    "spark =  SparkSession.builder \\\n",
    ".appName('Spark with Hive') \\\n",
    ".enableHiveSupport() \\\n",
    "getOrCreate()"
   ]
  },
  {
   "cell_type": "code",
   "execution_count": 2,
   "id": "9597ddbc-efc6-4ca9-899a-ea26bfbfa043",
   "metadata": {
    "tags": []
   },
   "outputs": [],
   "source": [
    "## Setting path for three differernt tables\n",
    "movies = '/jeet/hadoop/spark/movies.csv'\n",
    "ratings = '/jeet/hadoop/spark/ratings.csv'\n",
    "tags = '/jeet/hadoop/spark/tags.csv'"
   ]
  },
  {
   "cell_type": "code",
   "execution_count": 3,
   "id": "dcd176b4-50f8-42b9-b1de-c2dac5b4bd68",
   "metadata": {
    "tags": []
   },
   "outputs": [
    {
     "name": "stderr",
     "output_type": "stream",
     "text": [
      "                                                                                \r"
     ]
    }
   ],
   "source": [
    "# Reading and setting up schema for all the three files\n",
    "mvi = spark.read.format('csv').option('header', 'true').option('inferScheme', 'true').load(movies)\n",
    "ratng = spark.read.format('csv').option('header', 'true').option('inferScheme', 'true').load(ratings)\n",
    "tgs = spark.read.format('csv').option('header', 'true').option('inferScheme', 'true').load(tags)\n",
    "\n"
   ]
  },
  {
   "cell_type": "code",
   "execution_count": 4,
   "id": "30679ff5-56eb-41ec-a559-b8ed17a78dfd",
   "metadata": {
    "tags": []
   },
   "outputs": [],
   "source": [
    "# Changing data types of timestamp for RATING and TAGS tables\n",
    "ratng = ratng.withColumn('timestamp', from_unixtime(\"timestamp\").cast(TimestampType()))\n",
    "tgs = tgs.withColumn('timestamp', from_unixtime(\"timestamp\").cast(TimestampType()))"
   ]
  },
  {
   "cell_type": "code",
   "execution_count": 5,
   "id": "686246fe-9cb9-48ac-8b9b-0ce7f94ac7a9",
   "metadata": {
    "tags": []
   },
   "outputs": [],
   "source": [
    "# Work with spark SQL\n",
    "mvi.createOrReplaceTempView(\"MOVIES\")\n",
    "ratng.createOrReplaceTempView(\"RATINGS\")\n",
    "tgs.createOrReplaceTempView(\"TAGS\")"
   ]
  },
  {
   "cell_type": "code",
   "execution_count": 6,
   "id": "22fa79c5-c3d7-4a68-a8b1-99b94f55f72e",
   "metadata": {
    "tags": []
   },
   "outputs": [
    {
     "name": "stdout",
     "output_type": "stream",
     "text": [
      "+-------+--------------------+--------------------+\n",
      "|movieId|               title|              genres|\n",
      "+-------+--------------------+--------------------+\n",
      "|      1|    Toy Story (1995)|Adventure|Animati...|\n",
      "|      2|      Jumanji (1995)|Adventure|Childre...|\n",
      "|      3|Grumpier Old Men ...|      Comedy|Romance|\n",
      "|      4|Waiting to Exhale...|Comedy|Drama|Romance|\n",
      "|      5|Father of the Bri...|              Comedy|\n",
      "|      6|         Heat (1995)|Action|Crime|Thri...|\n",
      "|      7|      Sabrina (1995)|      Comedy|Romance|\n",
      "|      8| Tom and Huck (1995)|  Adventure|Children|\n",
      "|      9| Sudden Death (1995)|              Action|\n",
      "|     10|    GoldenEye (1995)|Action|Adventure|...|\n",
      "|     11|American Presiden...|Comedy|Drama|Romance|\n",
      "|     12|Dracula: Dead and...|       Comedy|Horror|\n",
      "|     13|        Balto (1995)|Adventure|Animati...|\n",
      "|     14|        Nixon (1995)|               Drama|\n",
      "|     15|Cutthroat Island ...|Action|Adventure|...|\n",
      "|     16|       Casino (1995)|         Crime|Drama|\n",
      "|     17|Sense and Sensibi...|       Drama|Romance|\n",
      "|     18|   Four Rooms (1995)|              Comedy|\n",
      "|     19|Ace Ventura: When...|              Comedy|\n",
      "|     20|  Money Train (1995)|Action|Comedy|Cri...|\n",
      "+-------+--------------------+--------------------+\n",
      "only showing top 20 rows\n",
      "\n",
      "+------+-------+------+-------------------+\n",
      "|userId|movieId|rating|          timestamp|\n",
      "+------+-------+------+-------------------+\n",
      "|     1|      1|   4.0|2000-07-30 18:45:03|\n",
      "|     1|      3|   4.0|2000-07-30 18:20:47|\n",
      "|     1|      6|   4.0|2000-07-30 18:37:04|\n",
      "|     1|     47|   5.0|2000-07-30 19:03:35|\n",
      "|     1|     50|   5.0|2000-07-30 18:48:51|\n",
      "|     1|     70|   3.0|2000-07-30 18:40:00|\n",
      "|     1|    101|   5.0|2000-07-30 18:14:28|\n",
      "|     1|    110|   4.0|2000-07-30 18:36:16|\n",
      "|     1|    151|   5.0|2000-07-30 19:07:21|\n",
      "|     1|    157|   5.0|2000-07-30 19:08:20|\n",
      "|     1|    163|   5.0|2000-07-30 19:00:50|\n",
      "|     1|    216|   5.0|2000-07-30 18:20:08|\n",
      "|     1|    223|   3.0|2000-07-30 18:16:25|\n",
      "|     1|    231|   5.0|2000-07-30 18:19:39|\n",
      "|     1|    235|   4.0|2000-07-30 18:15:08|\n",
      "|     1|    260|   5.0|2000-07-30 18:28:00|\n",
      "|     1|    296|   3.0|2000-07-30 18:49:27|\n",
      "|     1|    316|   3.0|2000-07-30 18:38:30|\n",
      "|     1|    333|   5.0|2000-07-30 18:19:39|\n",
      "|     1|    349|   4.0|2000-07-30 18:42:43|\n",
      "+------+-------+------+-------------------+\n",
      "only showing top 20 rows\n",
      "\n",
      "+------+-------+-----------------+-------------------+\n",
      "|userId|movieId|              tag|          timestamp|\n",
      "+------+-------+-----------------+-------------------+\n",
      "|     2|  60756|            funny|2015-10-24 19:29:54|\n",
      "|     2|  60756|  Highly quotable|2015-10-24 19:29:56|\n",
      "|     2|  60756|     will ferrell|2015-10-24 19:29:52|\n",
      "|     2|  89774|     Boxing story|2015-10-24 19:33:27|\n",
      "|     2|  89774|              MMA|2015-10-24 19:33:20|\n",
      "|     2|  89774|        Tom Hardy|2015-10-24 19:33:25|\n",
      "|     2| 106782|            drugs|2015-10-24 19:30:54|\n",
      "|     2| 106782|Leonardo DiCaprio|2015-10-24 19:30:51|\n",
      "|     2| 106782|  Martin Scorsese|2015-10-24 19:30:56|\n",
      "|     7|  48516|     way too long|2007-01-25 01:08:45|\n",
      "|    18|    431|        Al Pacino|2016-05-01 21:39:25|\n",
      "|    18|    431|         gangster|2016-05-01 21:39:09|\n",
      "|    18|    431|            mafia|2016-05-01 21:39:15|\n",
      "|    18|   1221|        Al Pacino|2016-04-26 19:35:06|\n",
      "|    18|   1221|            Mafia|2016-04-26 19:35:03|\n",
      "|    18|   5995|        holocaust|2016-02-17 18:57:52|\n",
      "|    18|   5995|       true story|2016-02-17 18:57:59|\n",
      "|    18|  44665|     twist ending|2016-03-02 19:51:23|\n",
      "|    18|  52604|  Anthony Hopkins|2016-03-10 22:58:16|\n",
      "|    18|  52604|  courtroom drama|2016-03-10 22:58:31|\n",
      "+------+-------+-----------------+-------------------+\n",
      "only showing top 20 rows\n",
      "\n"
     ]
    }
   ],
   "source": [
    "mvi.show()\n",
    "ratng.show()\n",
    "tgs.show()"
   ]
  },
  {
   "cell_type": "code",
   "execution_count": 7,
   "id": "4326ef0e-99f6-4f60-a894-630ad2578722",
   "metadata": {
    "tags": []
   },
   "outputs": [
    {
     "name": "stderr",
     "output_type": "stream",
     "text": [
      "                                                                                \r"
     ]
    },
    {
     "name": "stdout",
     "output_type": "stream",
     "text": [
      "+----+------------+\n",
      "|year|rating_count|\n",
      "+----+------------+\n",
      "|2018|        6418|\n",
      "|2017|        8198|\n",
      "|2016|        6703|\n",
      "|2015|        6616|\n",
      "|2014|        1439|\n",
      "|2013|        1664|\n",
      "|2012|        4656|\n",
      "|2011|        1690|\n",
      "|2010|        2301|\n",
      "|2009|        4158|\n",
      "|2008|        4351|\n",
      "|2007|        7114|\n",
      "|2006|        4059|\n",
      "|2005|        5813|\n",
      "|2004|        3279|\n",
      "|2003|        4014|\n",
      "|2002|        3478|\n",
      "|2001|        3922|\n",
      "|2000|       10061|\n",
      "|1999|        2439|\n",
      "+----+------------+\n",
      "only showing top 20 rows\n",
      "\n"
     ]
    },
    {
     "name": "stderr",
     "output_type": "stream",
     "text": [
      "                                                                                \r"
     ]
    },
    {
     "name": "stdout",
     "output_type": "stream",
     "text": [
      "Write Successfull\n"
     ]
    }
   ],
   "source": [
    "# Show the aggregated number of ratings per year\n",
    "query1 = \"\"\" select YEAR(timestamp) as year, count(rating) as rating_count\n",
    "FROM RATINGS\n",
    "group by 1\n",
    "order by 1 desc \"\"\"\n",
    "\n",
    "output = spark.sql(query1)\n",
    "output.show()\n",
    "\n",
    "output.coalesce(1).write.mode(\"overwrite\").format('csv').option('header', 'true') .option('delimiter', ',').save('/tmp/spark_movie_analysis/output_1.csv')\n",
    "print(\"Write Successfull\")"
   ]
  },
  {
   "cell_type": "code",
   "execution_count": 8,
   "id": "3c5f6fef-eaf4-4f1e-b96b-5708ba46b31f",
   "metadata": {
    "tags": []
   },
   "outputs": [
    {
     "name": "stderr",
     "output_type": "stream",
     "text": [
      "                                                                                \r"
     ]
    },
    {
     "name": "stdout",
     "output_type": "stream",
     "text": [
      "+----------+------------------+\n",
      "|year_month|       avg(rating)|\n",
      "+----------+------------------+\n",
      "|   2018-09| 3.568708609271523|\n",
      "|   2018-08|3.5577617328519855|\n",
      "|   2018-07| 4.010238907849829|\n",
      "|   2018-06| 3.979713603818616|\n",
      "|   2018-05|2.9516298633017874|\n",
      "|   2018-04|              3.75|\n",
      "|   2018-03| 3.786817713697219|\n",
      "|   2018-02|2.7386655260906756|\n",
      "|   2018-01|3.4194736842105264|\n",
      "|   2017-12|3.2611940298507465|\n",
      "|   2017-11| 3.652173913043478|\n",
      "|   2017-10|3.5244444444444443|\n",
      "|   2017-09|3.6827830188679247|\n",
      "|   2017-08| 4.076923076923077|\n",
      "|   2017-07| 4.052941176470588|\n",
      "|   2017-06|2.9594240837696337|\n",
      "|   2017-05| 3.480183562786817|\n",
      "|   2017-04| 3.626218851570964|\n",
      "|   2017-03| 3.051001821493625|\n",
      "|   2017-02|2.7547619047619047|\n",
      "+----------+------------------+\n",
      "only showing top 20 rows\n",
      "\n",
      "Write Successfull\n"
     ]
    }
   ],
   "source": [
    "# Average Monthly number of ratings\n",
    "query2 = \"\"\" select left(timestamp, 7) as year_month, avg(rating)\n",
    "from Ratings\n",
    "group by 1\n",
    "order by 1 desc \"\"\"\n",
    "\n",
    "output_2 = spark.sql(query2)\n",
    "output_2.show()\n",
    "output.coalesce(1).write.mode(\"overwrite\").format('csv').option('header', 'true') .option('delimiter', ',').save('/tmp/spark_movie_analysis/output_2.csv')\n",
    "print(\"Write Successfull\")"
   ]
  },
  {
   "cell_type": "code",
   "execution_count": 9,
   "id": "19a5f6bc-f400-4dcd-b86c-32d94c3c8f25",
   "metadata": {},
   "outputs": [
    {
     "name": "stderr",
     "output_type": "stream",
     "text": [
      "25/01/22 00:20:48 WARN WindowExec: No Partition Defined for Window operation! Moving all data to a single partition, this can cause serious performance degradation.\n",
      "25/01/22 00:20:48 WARN WindowExec: No Partition Defined for Window operation! Moving all data to a single partition, this can cause serious performance degradation.\n",
      "25/01/22 00:20:48 WARN WindowExec: No Partition Defined for Window operation! Moving all data to a single partition, this can cause serious performance degradation.\n",
      "25/01/22 00:20:48 WARN WindowExec: No Partition Defined for Window operation! Moving all data to a single partition, this can cause serious performance degradation.\n",
      "25/01/22 00:20:48 WARN WindowExec: No Partition Defined for Window operation! Moving all data to a single partition, this can cause serious performance degradation.\n",
      "25/01/22 00:20:49 WARN WindowExec: No Partition Defined for Window operation! Moving all data to a single partition, this can cause serious performance degradation.\n",
      "25/01/22 00:20:49 WARN WindowExec: No Partition Defined for Window operation! Moving all data to a single partition, this can cause serious performance degradation.\n",
      "25/01/22 00:20:49 WARN WindowExec: No Partition Defined for Window operation! Moving all data to a single partition, this can cause serious performance degradation.\n",
      "25/01/22 00:20:49 WARN WindowExec: No Partition Defined for Window operation! Moving all data to a single partition, this can cause serious performance degradation.\n",
      "                                                                                \r"
     ]
    },
    {
     "name": "stdout",
     "output_type": "stream",
     "text": [
      "+-------------+------+------------------+\n",
      "|rating_bucket|counts|        percentage|\n",
      "+-------------+------+------------------+\n",
      "|    0.0 - 2.0| 19073|18.914871672815263|\n",
      "|    2.1 - 4.0| 68552| 67.98365663056845|\n",
      "|           >4| 13211|13.101471696616288|\n",
      "+-------------+------+------------------+\n",
      "\n"
     ]
    },
    {
     "name": "stderr",
     "output_type": "stream",
     "text": [
      "25/01/22 00:20:50 WARN WindowExec: No Partition Defined for Window operation! Moving all data to a single partition, this can cause serious performance degradation.\n",
      "25/01/22 00:20:50 WARN WindowExec: No Partition Defined for Window operation! Moving all data to a single partition, this can cause serious performance degradation.\n",
      "25/01/22 00:20:50 WARN WindowExec: No Partition Defined for Window operation! Moving all data to a single partition, this can cause serious performance degradation.\n",
      "25/01/22 00:20:50 WARN WindowExec: No Partition Defined for Window operation! Moving all data to a single partition, this can cause serious performance degradation.\n",
      "25/01/22 00:20:50 WARN WindowExec: No Partition Defined for Window operation! Moving all data to a single partition, this can cause serious performance degradation.\n",
      "25/01/22 00:20:51 WARN WindowExec: No Partition Defined for Window operation! Moving all data to a single partition, this can cause serious performance degradation.\n",
      "25/01/22 00:20:51 WARN WindowExec: No Partition Defined for Window operation! Moving all data to a single partition, this can cause serious performance degradation.\n",
      "25/01/22 00:20:51 WARN WindowExec: No Partition Defined for Window operation! Moving all data to a single partition, this can cause serious performance degradation.\n",
      "25/01/22 00:20:51 WARN WindowExec: No Partition Defined for Window operation! Moving all data to a single partition, this can cause serious performance degradation.\n"
     ]
    },
    {
     "name": "stdout",
     "output_type": "stream",
     "text": [
      "Write Successfull\n"
     ]
    },
    {
     "name": "stderr",
     "output_type": "stream",
     "text": [
      "                                                                                \r"
     ]
    }
   ],
   "source": [
    "query3 = \"\"\" with t1 AS (\n",
    "select rating, \n",
    "CASE WHEN rating BETWEEN 0 and 2 THEN '0.0 - 2.0'\n",
    "WHEN rating BETWEEN 2.1 AND 4 THEN '2.1 - 4.0'\n",
    "ELSE '>4' \n",
    "END as rating_bucket\n",
    "from RATINGS),\n",
    "\n",
    "t2 AS (select rating_bucket, count(rating) AS counts\n",
    "from t1\n",
    "group by 1\n",
    "order by 1)\n",
    "\n",
    "select rating_bucket, counts, counts*100/SUM(counts)OVER() AS percentage\n",
    "from t2 \"\"\"\n",
    "\n",
    "output = spark.sql(query3)\n",
    "\n",
    "output.show()\n",
    "output.coalesce(1).write.mode(\"overwrite\").format('csv').option('header', 'true') .option('delimiter', ',').save('/tmp/spark_movie_analysis/output_3.csv')\n",
    "print(\"Write Successfull\")"
   ]
  },
  {
   "cell_type": "code",
   "execution_count": 10,
   "id": "e12be1eb-b3e9-49bb-97ce-4bd66b298476",
   "metadata": {},
   "outputs": [
    {
     "name": "stdout",
     "output_type": "stream",
     "text": [
      "+-------+--------------------+\n",
      "|movieId|               title|\n",
      "+-------+--------------------+\n",
      "|  34482|Browning Version,...|\n",
      "|  32371|Call Northside 77...|\n",
      "|  85565|  Chalet Girl (2011)|\n",
      "|   5721|  Chosen, The (1981)|\n",
      "|   3456|Color of Paradise...|\n",
      "|   3338|For All Mankind (...|\n",
      "|   4194|I Know Where I'm ...|\n",
      "|  30892|In the Realms of ...|\n",
      "|   1076|Innocents, The (1...|\n",
      "|  26085|Mutiny on the Bou...|\n",
      "|   2939|      Niagara (1953)|\n",
      "|   7792|Parallax View, Th...|\n",
      "|   7020|        Proof (1991)|\n",
      "|   6668|Road Home, The (W...|\n",
      "|  25855|Roaring Twenties,...|\n",
      "|   6849|      Scrooge (1970)|\n",
      "|   8765|This Gun for Hire...|\n",
      "|  32160|Twentieth Century...|\n",
      "+-------+--------------------+\n",
      "\n",
      "Write Successfull\n"
     ]
    }
   ],
   "source": [
    "# Movies Tagged but not Rated\n",
    "\n",
    "query4 = \"\"\" with t1 AS (\n",
    "Select DISTINCT TAGS.movieId from TAGS\n",
    "left join RATINGS on TAGS.movieId = RATINGS.movieId\n",
    "where RATINGS.movieId is NULL)\n",
    "\n",
    "select t1.movieId, MOVIES.title from MOVIES\n",
    "inner join t1 on MOVIES.movieId = t1.movieId\n",
    "order by MOVIES.title\"\"\"\n",
    "\n",
    "output = spark.sql(query4)\n",
    "output.show()\n",
    "\n",
    "output.coalesce(1).write.mode(\"overwrite\").format('csv').option('header', 'true') .option('delimiter', ',').save('/tmp/spark_movie_analysis/output_4.csv')\n",
    "print(\"Write Successfull\")\n",
    "\n"
   ]
  },
  {
   "cell_type": "code",
   "execution_count": 11,
   "id": "8f40511a-2645-4c04-aa2b-49bbf2c3a7d4",
   "metadata": {
    "tags": []
   },
   "outputs": [
    {
     "name": "stdout",
     "output_type": "stream",
     "text": [
      "+--------------------+-------+\n",
      "|               title|movieId|\n",
      "+--------------------+-------+\n",
      "|          '71 (2014)| 117867|\n",
      "|'Hellboy': The Se...|  97757|\n",
      "|'Round Midnight (...|  26564|\n",
      "| 'Salem's Lot (2004)|  27751|\n",
      "|'Til There Was Yo...|    779|\n",
      "|'Tis the Season f...| 149380|\n",
      "|  'burbs, The (1989)|   2072|\n",
      "|'night Mother (1986)|   3112|\n",
      "|*batteries not in...|   8169|\n",
      "|...All the Marble...|   5706|\n",
      "|00 Schneider - Ja...| 157110|\n",
      "|   1-900 (06) (1994)|    889|\n",
      "|           10 (1979)|   6658|\n",
      "|10 Cent Pistol (2...| 139717|\n",
      "|10 Items or Less ...|  49284|\n",
      "|     10 Years (2011)|  98230|\n",
      "|    10,000 BC (2008)|  58293|\n",
      "|    100 Girls (2000)|   7541|\n",
      "|  100 Streets (2016)| 168350|\n",
      "|101 Dalmatians II...| 121099|\n",
      "+--------------------+-------+\n",
      "only showing top 20 rows\n",
      "\n",
      "Write Successfull\n"
     ]
    }
   ],
   "source": [
    "query5 = \"\"\" with t1 AS (\n",
    "select distinct RATINGS.movieId from RATINGS\n",
    "left join TAGS on TAGS.movieId = RATINGS.movieId\n",
    "where TAGS.movieId is NULL)\n",
    "\n",
    "select MOVIES.title, t1.movieId\n",
    "from MOVIES\n",
    "inner join t1 on MOVIES.movieId = t1.movieId\n",
    "order by 1\n",
    "\"\"\"\n",
    "\n",
    "output = spark.sql(query5)\n",
    "output.show()\n",
    "\n",
    "output.coalesce(1).write.mode(\"overwrite\").format('csv').option('header', 'true') .option('delimiter', ',').save('/tmp/spark_movie_analysis/output_5.csv')\n",
    "print(\"Write Successfull\")"
   ]
  },
  {
   "cell_type": "code",
   "execution_count": 12,
   "id": "5067134e-4edf-4724-8322-466d45eb33c5",
   "metadata": {
    "tags": []
   },
   "outputs": [
    {
     "name": "stdout",
     "output_type": "stream",
     "text": [
      "+------+-------+------+-------------------+\n",
      "|userId|movieId|rating|          timestamp|\n",
      "+------+-------+------+-------------------+\n",
      "|     1|      1|   4.0|2000-07-30 18:45:03|\n",
      "|     1|      3|   4.0|2000-07-30 18:20:47|\n",
      "|     1|      6|   4.0|2000-07-30 18:37:04|\n",
      "|     1|     47|   5.0|2000-07-30 19:03:35|\n",
      "|     1|     50|   5.0|2000-07-30 18:48:51|\n",
      "|     1|     70|   3.0|2000-07-30 18:40:00|\n",
      "|     1|    101|   5.0|2000-07-30 18:14:28|\n",
      "|     1|    110|   4.0|2000-07-30 18:36:16|\n",
      "|     1|    151|   5.0|2000-07-30 19:07:21|\n",
      "|     1|    157|   5.0|2000-07-30 19:08:20|\n",
      "|     1|    163|   5.0|2000-07-30 19:00:50|\n",
      "|     1|    216|   5.0|2000-07-30 18:20:08|\n",
      "|     1|    223|   3.0|2000-07-30 18:16:25|\n",
      "|     1|    231|   5.0|2000-07-30 18:19:39|\n",
      "|     1|    235|   4.0|2000-07-30 18:15:08|\n",
      "|     1|    260|   5.0|2000-07-30 18:28:00|\n",
      "|     1|    296|   3.0|2000-07-30 18:49:27|\n",
      "|     1|    316|   3.0|2000-07-30 18:38:30|\n",
      "|     1|    333|   5.0|2000-07-30 18:19:39|\n",
      "|     1|    349|   4.0|2000-07-30 18:42:43|\n",
      "+------+-------+------+-------------------+\n",
      "only showing top 20 rows\n",
      "\n",
      "+------+-------+-----------------+-------------------+\n",
      "|userId|movieId|              tag|          timestamp|\n",
      "+------+-------+-----------------+-------------------+\n",
      "|     2|  60756|            funny|2015-10-24 19:29:54|\n",
      "|     2|  60756|  Highly quotable|2015-10-24 19:29:56|\n",
      "|     2|  60756|     will ferrell|2015-10-24 19:29:52|\n",
      "|     2|  89774|     Boxing story|2015-10-24 19:33:27|\n",
      "|     2|  89774|              MMA|2015-10-24 19:33:20|\n",
      "|     2|  89774|        Tom Hardy|2015-10-24 19:33:25|\n",
      "|     2| 106782|            drugs|2015-10-24 19:30:54|\n",
      "|     2| 106782|Leonardo DiCaprio|2015-10-24 19:30:51|\n",
      "|     2| 106782|  Martin Scorsese|2015-10-24 19:30:56|\n",
      "|     7|  48516|     way too long|2007-01-25 01:08:45|\n",
      "|    18|    431|        Al Pacino|2016-05-01 21:39:25|\n",
      "|    18|    431|         gangster|2016-05-01 21:39:09|\n",
      "|    18|    431|            mafia|2016-05-01 21:39:15|\n",
      "|    18|   1221|        Al Pacino|2016-04-26 19:35:06|\n",
      "|    18|   1221|            Mafia|2016-04-26 19:35:03|\n",
      "|    18|   5995|        holocaust|2016-02-17 18:57:52|\n",
      "|    18|   5995|       true story|2016-02-17 18:57:59|\n",
      "|    18|  44665|     twist ending|2016-03-02 19:51:23|\n",
      "|    18|  52604|  Anthony Hopkins|2016-03-10 22:58:16|\n",
      "|    18|  52604|  courtroom drama|2016-03-10 22:58:31|\n",
      "+------+-------+-----------------+-------------------+\n",
      "only showing top 20 rows\n",
      "\n",
      "+-------+--------------------+--------------------+\n",
      "|movieId|               title|              genres|\n",
      "+-------+--------------------+--------------------+\n",
      "|      1|    Toy Story (1995)|Adventure|Animati...|\n",
      "|      2|      Jumanji (1995)|Adventure|Childre...|\n",
      "|      3|Grumpier Old Men ...|      Comedy|Romance|\n",
      "|      4|Waiting to Exhale...|Comedy|Drama|Romance|\n",
      "|      5|Father of the Bri...|              Comedy|\n",
      "|      6|         Heat (1995)|Action|Crime|Thri...|\n",
      "|      7|      Sabrina (1995)|      Comedy|Romance|\n",
      "|      8| Tom and Huck (1995)|  Adventure|Children|\n",
      "|      9| Sudden Death (1995)|              Action|\n",
      "|     10|    GoldenEye (1995)|Action|Adventure|...|\n",
      "|     11|American Presiden...|Comedy|Drama|Romance|\n",
      "|     12|Dracula: Dead and...|       Comedy|Horror|\n",
      "|     13|        Balto (1995)|Adventure|Animati...|\n",
      "|     14|        Nixon (1995)|               Drama|\n",
      "|     15|Cutthroat Island ...|Action|Adventure|...|\n",
      "|     16|       Casino (1995)|         Crime|Drama|\n",
      "|     17|Sense and Sensibi...|       Drama|Romance|\n",
      "|     18|   Four Rooms (1995)|              Comedy|\n",
      "|     19|Ace Ventura: When...|              Comedy|\n",
      "|     20|  Money Train (1995)|Action|Comedy|Cri...|\n",
      "+-------+--------------------+--------------------+\n",
      "only showing top 20 rows\n",
      "\n"
     ]
    }
   ],
   "source": [
    "ratng.show()\n",
    "tgs.show()\n",
    "mvi.show()"
   ]
  },
  {
   "cell_type": "code",
   "execution_count": 13,
   "id": "99ac8b79-b571-4e84-8cc4-62e35526f996",
   "metadata": {
    "tags": []
   },
   "outputs": [
    {
     "name": "stderr",
     "output_type": "stream",
     "text": [
      "25/01/22 00:21:02 WARN WindowExec: No Partition Defined for Window operation! Moving all data to a single partition, this can cause serious performance degradation.\n",
      "25/01/22 00:21:02 WARN WindowExec: No Partition Defined for Window operation! Moving all data to a single partition, this can cause serious performance degradation.\n",
      "25/01/22 00:21:02 WARN WindowExec: No Partition Defined for Window operation! Moving all data to a single partition, this can cause serious performance degradation.\n",
      "25/01/22 00:21:02 WARN WindowExec: No Partition Defined for Window operation! Moving all data to a single partition, this can cause serious performance degradation.\n",
      "25/01/22 00:21:03 WARN WindowExec: No Partition Defined for Window operation! Moving all data to a single partition, this can cause serious performance degradation.\n",
      "25/01/22 00:21:03 WARN WindowExec: No Partition Defined for Window operation! Moving all data to a single partition, this can cause serious performance degradation.\n",
      "25/01/22 00:21:03 WARN WindowExec: No Partition Defined for Window operation! Moving all data to a single partition, this can cause serious performance degradation.\n",
      "25/01/22 00:21:03 WARN WindowExec: No Partition Defined for Window operation! Moving all data to a single partition, this can cause serious performance degradation.\n",
      "25/01/22 00:21:03 WARN WindowExec: No Partition Defined for Window operation! Moving all data to a single partition, this can cause serious performance degradation.\n",
      "25/01/22 00:21:03 WARN WindowExec: No Partition Defined for Window operation! Moving all data to a single partition, this can cause serious performance degradation.\n",
      "25/01/22 00:21:03 WARN WindowExec: No Partition Defined for Window operation! Moving all data to a single partition, this can cause serious performance degradation.\n",
      "25/01/22 00:21:03 WARN WindowExec: No Partition Defined for Window operation! Moving all data to a single partition, this can cause serious performance degradation.\n",
      "25/01/22 00:21:03 WARN WindowExec: No Partition Defined for Window operation! Moving all data to a single partition, this can cause serious performance degradation.\n",
      "25/01/22 00:21:03 WARN WindowExec: No Partition Defined for Window operation! Moving all data to a single partition, this can cause serious performance degradation.\n",
      "25/01/22 00:21:03 WARN WindowExec: No Partition Defined for Window operation! Moving all data to a single partition, this can cause serious performance degradation.\n",
      "25/01/22 00:21:03 WARN WindowExec: No Partition Defined for Window operation! Moving all data to a single partition, this can cause serious performance degradation.\n",
      "25/01/22 00:21:03 WARN WindowExec: No Partition Defined for Window operation! Moving all data to a single partition, this can cause serious performance degradation.\n",
      "25/01/22 00:21:03 WARN WindowExec: No Partition Defined for Window operation! Moving all data to a single partition, this can cause serious performance degradation.\n",
      "25/01/22 00:21:03 WARN WindowExec: No Partition Defined for Window operation! Moving all data to a single partition, this can cause serious performance degradation.\n",
      "25/01/22 00:21:03 WARN WindowExec: No Partition Defined for Window operation! Moving all data to a single partition, this can cause serious performance degradation.\n",
      "25/01/22 00:21:04 WARN WindowExec: No Partition Defined for Window operation! Moving all data to a single partition, this can cause serious performance degradation.\n",
      "25/01/22 00:21:04 WARN WindowExec: No Partition Defined for Window operation! Moving all data to a single partition, this can cause serious performance degradation.\n",
      "25/01/22 00:21:04 WARN WindowExec: No Partition Defined for Window operation! Moving all data to a single partition, this can cause serious performance degradation.\n",
      "25/01/22 00:21:04 WARN WindowExec: No Partition Defined for Window operation! Moving all data to a single partition, this can cause serious performance degradation.\n",
      "25/01/22 00:21:04 WARN WindowExec: No Partition Defined for Window operation! Moving all data to a single partition, this can cause serious performance degradation.\n",
      "25/01/22 00:21:04 WARN WindowExec: No Partition Defined for Window operation! Moving all data to a single partition, this can cause serious performance degradation.\n",
      "25/01/22 00:21:04 WARN WindowExec: No Partition Defined for Window operation! Moving all data to a single partition, this can cause serious performance degradation.\n",
      "25/01/22 00:21:04 WARN WindowExec: No Partition Defined for Window operation! Moving all data to a single partition, this can cause serious performance degradation.\n",
      "25/01/22 00:21:05 WARN WindowExec: No Partition Defined for Window operation! Moving all data to a single partition, this can cause serious performance degradation.\n",
      "25/01/22 00:21:05 WARN WindowExec: No Partition Defined for Window operation! Moving all data to a single partition, this can cause serious performance degradation.\n",
      "25/01/22 00:21:05 WARN WindowExec: No Partition Defined for Window operation! Moving all data to a single partition, this can cause serious performance degradation.\n",
      "25/01/22 00:21:05 WARN WindowExec: No Partition Defined for Window operation! Moving all data to a single partition, this can cause serious performance degradation.\n",
      "25/01/22 00:21:05 WARN WindowExec: No Partition Defined for Window operation! Moving all data to a single partition, this can cause serious performance degradation.\n",
      "25/01/22 00:21:05 WARN WindowExec: No Partition Defined for Window operation! Moving all data to a single partition, this can cause serious performance degradation.\n",
      "25/01/22 00:21:05 WARN WindowExec: No Partition Defined for Window operation! Moving all data to a single partition, this can cause serious performance degradation.\n",
      "25/01/22 00:21:05 WARN WindowExec: No Partition Defined for Window operation! Moving all data to a single partition, this can cause serious performance degradation.\n",
      "25/01/22 00:21:05 WARN WindowExec: No Partition Defined for Window operation! Moving all data to a single partition, this can cause serious performance degradation.\n",
      "25/01/22 00:21:05 WARN WindowExec: No Partition Defined for Window operation! Moving all data to a single partition, this can cause serious performance degradation.\n",
      "25/01/22 00:21:05 WARN WindowExec: No Partition Defined for Window operation! Moving all data to a single partition, this can cause serious performance degradation.\n",
      "25/01/22 00:21:05 WARN WindowExec: No Partition Defined for Window operation! Moving all data to a single partition, this can cause serious performance degradation.\n"
     ]
    },
    {
     "name": "stdout",
     "output_type": "stream",
     "text": [
      "+--------------------+--------+----------+--------------------+----------+------+\n",
      "|        Movie_title1|avg_rank|avg_rating|        Movie_title2|count_rank|counts|\n",
      "+--------------------+--------+----------+--------------------+----------+------+\n",
      "|Boondock Saints, ...|       1|    4.2209|American Beauty (...|         1|   204|\n",
      "|       Brazil (1985)|       2|     4.178|Ace Ventura: Pet ...|         2|   161|\n",
      "|Cinema Paradiso (...|       3|    4.1618|    Mask, The (1994)|         3|   157|\n",
      "|       Snatch (2000)|       4|    4.1559|     Die Hard (1988)|         4|   145|\n",
      "|For a Few Dollars...|       5|    4.1515|Die Hard: With a ...|         5|   144|\n",
      "|Lives of Others, ...|       6|    4.1176|Groundhog Day (1993)|         6|   143|\n",
      "|  Toy Story 3 (2010)|       7|    4.1091|Dumb & Dumber (Du...|         7|   133|\n",
      "|Boogie Nights (1997)|       8|    4.0769|    GoldenEye (1995)|         8|   132|\n",
      "|Boogie Nights (1997)|       8|    4.0769|Monsters, Inc. (2...|         8|   132|\n",
      "|American Beauty (...|       9|    4.0564|Austin Powers: Th...|         9|   121|\n",
      "|Lock, Stock & Two...|      10|    4.0522|Willy Wonka & the...|        10|   119|\n",
      "+--------------------+--------+----------+--------------------+----------+------+\n",
      "\n"
     ]
    },
    {
     "name": "stderr",
     "output_type": "stream",
     "text": [
      "25/01/22 00:21:06 WARN WindowExec: No Partition Defined for Window operation! Moving all data to a single partition, this can cause serious performance degradation.\n",
      "25/01/22 00:21:06 WARN WindowExec: No Partition Defined for Window operation! Moving all data to a single partition, this can cause serious performance degradation.\n",
      "25/01/22 00:21:06 WARN WindowExec: No Partition Defined for Window operation! Moving all data to a single partition, this can cause serious performance degradation.\n",
      "25/01/22 00:21:06 WARN WindowExec: No Partition Defined for Window operation! Moving all data to a single partition, this can cause serious performance degradation.\n",
      "25/01/22 00:21:06 WARN WindowExec: No Partition Defined for Window operation! Moving all data to a single partition, this can cause serious performance degradation.\n",
      "25/01/22 00:21:06 WARN WindowExec: No Partition Defined for Window operation! Moving all data to a single partition, this can cause serious performance degradation.\n",
      "25/01/22 00:21:06 WARN WindowExec: No Partition Defined for Window operation! Moving all data to a single partition, this can cause serious performance degradation.\n",
      "25/01/22 00:21:06 WARN WindowExec: No Partition Defined for Window operation! Moving all data to a single partition, this can cause serious performance degradation.\n",
      "25/01/22 00:21:06 WARN WindowExec: No Partition Defined for Window operation! Moving all data to a single partition, this can cause serious performance degradation.\n",
      "25/01/22 00:21:07 WARN WindowExec: No Partition Defined for Window operation! Moving all data to a single partition, this can cause serious performance degradation.\n",
      "25/01/22 00:21:07 WARN WindowExec: No Partition Defined for Window operation! Moving all data to a single partition, this can cause serious performance degradation.\n",
      "25/01/22 00:21:07 WARN WindowExec: No Partition Defined for Window operation! Moving all data to a single partition, this can cause serious performance degradation.\n",
      "25/01/22 00:21:07 WARN WindowExec: No Partition Defined for Window operation! Moving all data to a single partition, this can cause serious performance degradation.\n",
      "25/01/22 00:21:07 WARN WindowExec: No Partition Defined for Window operation! Moving all data to a single partition, this can cause serious performance degradation.\n",
      "25/01/22 00:21:07 WARN WindowExec: No Partition Defined for Window operation! Moving all data to a single partition, this can cause serious performance degradation.\n",
      "25/01/22 00:21:07 WARN WindowExec: No Partition Defined for Window operation! Moving all data to a single partition, this can cause serious performance degradation.\n",
      "25/01/22 00:21:07 WARN WindowExec: No Partition Defined for Window operation! Moving all data to a single partition, this can cause serious performance degradation.\n",
      "25/01/22 00:21:07 WARN WindowExec: No Partition Defined for Window operation! Moving all data to a single partition, this can cause serious performance degradation.\n",
      "25/01/22 00:21:07 WARN WindowExec: No Partition Defined for Window operation! Moving all data to a single partition, this can cause serious performance degradation.\n",
      "25/01/22 00:21:07 WARN WindowExec: No Partition Defined for Window operation! Moving all data to a single partition, this can cause serious performance degradation.\n",
      "25/01/22 00:21:07 WARN WindowExec: No Partition Defined for Window operation! Moving all data to a single partition, this can cause serious performance degradation.\n",
      "25/01/22 00:21:07 WARN WindowExec: No Partition Defined for Window operation! Moving all data to a single partition, this can cause serious performance degradation.\n",
      "25/01/22 00:21:07 WARN WindowExec: No Partition Defined for Window operation! Moving all data to a single partition, this can cause serious performance degradation.\n",
      "25/01/22 00:21:07 WARN WindowExec: No Partition Defined for Window operation! Moving all data to a single partition, this can cause serious performance degradation.\n",
      "25/01/22 00:21:08 WARN WindowExec: No Partition Defined for Window operation! Moving all data to a single partition, this can cause serious performance degradation.\n",
      "25/01/22 00:21:08 WARN WindowExec: No Partition Defined for Window operation! Moving all data to a single partition, this can cause serious performance degradation.\n",
      "25/01/22 00:21:08 WARN WindowExec: No Partition Defined for Window operation! Moving all data to a single partition, this can cause serious performance degradation.\n",
      "25/01/22 00:21:08 WARN WindowExec: No Partition Defined for Window operation! Moving all data to a single partition, this can cause serious performance degradation.\n",
      "25/01/22 00:21:08 WARN WindowExec: No Partition Defined for Window operation! Moving all data to a single partition, this can cause serious performance degradation.\n",
      "25/01/22 00:21:08 WARN WindowExec: No Partition Defined for Window operation! Moving all data to a single partition, this can cause serious performance degradation.\n",
      "25/01/22 00:21:08 WARN WindowExec: No Partition Defined for Window operation! Moving all data to a single partition, this can cause serious performance degradation.\n",
      "25/01/22 00:21:08 WARN WindowExec: No Partition Defined for Window operation! Moving all data to a single partition, this can cause serious performance degradation.\n",
      "25/01/22 00:21:08 WARN WindowExec: No Partition Defined for Window operation! Moving all data to a single partition, this can cause serious performance degradation.\n",
      "25/01/22 00:21:08 WARN WindowExec: No Partition Defined for Window operation! Moving all data to a single partition, this can cause serious performance degradation.\n",
      "25/01/22 00:21:08 WARN WindowExec: No Partition Defined for Window operation! Moving all data to a single partition, this can cause serious performance degradation.\n",
      "25/01/22 00:21:08 WARN WindowExec: No Partition Defined for Window operation! Moving all data to a single partition, this can cause serious performance degradation.\n",
      "25/01/22 00:21:08 WARN WindowExec: No Partition Defined for Window operation! Moving all data to a single partition, this can cause serious performance degradation.\n",
      "25/01/22 00:21:08 WARN WindowExec: No Partition Defined for Window operation! Moving all data to a single partition, this can cause serious performance degradation.\n",
      "25/01/22 00:21:08 WARN WindowExec: No Partition Defined for Window operation! Moving all data to a single partition, this can cause serious performance degradation.\n",
      "25/01/22 00:21:08 WARN WindowExec: No Partition Defined for Window operation! Moving all data to a single partition, this can cause serious performance degradation.\n",
      "25/01/22 00:21:08 WARN WindowExec: No Partition Defined for Window operation! Moving all data to a single partition, this can cause serious performance degradation.\n",
      "25/01/22 00:21:08 WARN WindowExec: No Partition Defined for Window operation! Moving all data to a single partition, this can cause serious performance degradation.\n",
      "25/01/22 00:21:09 WARN WindowExec: No Partition Defined for Window operation! Moving all data to a single partition, this can cause serious performance degradation.\n",
      "25/01/22 00:21:09 WARN WindowExec: No Partition Defined for Window operation! Moving all data to a single partition, this can cause serious performance degradation.\n"
     ]
    },
    {
     "name": "stdout",
     "output_type": "stream",
     "text": [
      "Write Successfull\n"
     ]
    }
   ],
   "source": [
    "query6 = \"\"\" \n",
    "with t1 as \n",
    "            (Select movieid\n",
    "                from ratings\n",
    "                 group by 1\n",
    "              having count(distinct userid)>30),\n",
    "\n",
    "        t2 as (Select \n",
    "           t1.movieID from t1\n",
    "           left join TAGS as t\n",
    "           on t1.movieID=t.movieID\n",
    "           where t.movieID IS NULL),\n",
    "          \n",
    "           t3 as (Select m.title,m.movieID \n",
    "           from MOVIES as m\n",
    "          inner join t2\n",
    "           on m.movieID=t2.movieID\n",
    "           order by 1),\n",
    "\n",
    " t4 as (Select t3.title,avg(r.rating) as avg_rating,\n",
    "           dense_rank()over(order by avg(r.rating) desc) as avg_rank\n",
    "           from t3 left join RATINGS as r\n",
    "           on t3.movieID=r.movieID\n",
    "           group by 1),\n",
    "           \n",
    " t5 as (Select t3.title,count(rating) as counts,\n",
    "           dense_rank()over(order by count(rating) desc) as count_rank\n",
    "           from t3 left join RATINGS as r\n",
    "           on t3.movieID=r.movieID\n",
    "           group by 1)\n",
    "           \n",
    "Select t4.title as Movie_title1,t4.avg_rank,Round(t4.avg_rating,4) as avg_rating,t5.title as Movie_title2,t5.count_rank,t5.counts\n",
    "           from t4 inner join t5\n",
    "           on t4.avg_rank=t5.count_rank\n",
    "           where t4.avg_rank<=10 and t5.count_rank<=10\n",
    "        \n",
    "\"\"\"\n",
    "\n",
    "output = spark.sql(query6)\n",
    "output.show()\n",
    "\n",
    "output.coalesce(1).write.mode(\"overwrite\").format('csv').option('header', 'true') .option('delimiter', ',').save('/tmp/spark_movie_analysis/output_6.csv')\n",
    "print(\"Write Successfull\")"
   ]
  },
  {
   "cell_type": "code",
   "execution_count": 14,
   "id": "420c415a-7641-40fb-9f70-bc4cdfb55d42",
   "metadata": {},
   "outputs": [
    {
     "name": "stdout",
     "output_type": "stream",
     "text": [
      "+--------------+-------------+--------------------+\n",
      "|tags_per_movie|tags_per_user|          Comparison|\n",
      "+--------------+-------------+--------------------+\n",
      "|          2.34|         63.5|tags_per_user is ...|\n",
      "+--------------+-------------+--------------------+\n",
      "\n",
      "Write Successfull\n"
     ]
    }
   ],
   "source": [
    "# Tags per movie vs Tags per User\n",
    "\n",
    "query7= \"\"\"with t1 as(\n",
    "          Select '1' as key, round((sum(CASE when tag IS NOT NULL THEN 1 ELSE 0 END)/count(distinct movieid)),2) as tags_per_movie\n",
    "          from TAGS),\n",
    "          \n",
    "          t2 as ( Select '1' as key, (sum(CASE WHEN tag IS NOT NULL THEN 1 ELSE 0 END)/count(distinct userid)) as tags_per_user\n",
    "          from TAGS)\n",
    "          \n",
    "          Select t1.tags_per_movie,t2.tags_per_user,\n",
    "          CASE WHEN tags_per_user>tags_per_movie THEN 'tags_per_user is higher'\n",
    "          ELSE 'tags_per_movie is higher' END as Comparison\n",
    "          from t1 inner join t2 on t1.key=t2.key\"\"\"\n",
    "          \n",
    "\n",
    "output = spark.sql(query7)\n",
    "output.show()\n",
    "\n",
    "\n",
    "output.coalesce(1).write.mode(\"overwrite\").format('csv').option('header', 'true') .option('delimiter', ',').save('/tmp/spark_movie_analysis/output_7.csv')\n",
    "print(\"Write Successfull\")\n"
   ]
  },
  {
   "cell_type": "code",
   "execution_count": 15,
   "id": "d66f569d-c979-48bb-bd40-403118cabf4b",
   "metadata": {
    "tags": []
   },
   "outputs": [
    {
     "name": "stdout",
     "output_type": "stream",
     "text": [
      "+------+\n",
      "|userid|\n",
      "+------+\n",
      "|   288|\n",
      "|   318|\n",
      "|   474|\n",
      "|   543|\n",
      "+------+\n",
      "\n",
      "Write Successfull\n"
     ]
    }
   ],
   "source": [
    "# Users that tagged but did not Rate movies\n",
    "\n",
    "query8= \"\"\"\n",
    "         \n",
    "         Select distinct t.userid\n",
    "         from TAGS as t\n",
    "         left join RATINGS as r\n",
    "         on t.movieID=r.movieID\n",
    "         where r.userID is NULL\"\"\"\n",
    "          \n",
    "\n",
    "output = spark.sql(query8)\n",
    "output.show()\n",
    "\n",
    "# Write data in HDFS into single file\n",
    "\n",
    "output.coalesce(1).write.mode(\"overwrite\").format('csv').option('header', 'true') .option('delimiter', ',').save('/tmp/spark_movie_analysis/output_8.csv')\n",
    "print(\"Write Successfull\")\n",
    "\n"
   ]
  },
  {
   "cell_type": "code",
   "execution_count": 16,
   "id": "a19faa8f-263d-4683-9536-33d76451131a",
   "metadata": {
    "tags": []
   },
   "outputs": [
    {
     "name": "stdout",
     "output_type": "stream",
     "text": [
      "+----------------+-----------------+\n",
      "|ratings_per_user|ratings_per_movie|\n",
      "+----------------+-----------------+\n",
      "|           165.3|            10.37|\n",
      "+----------------+-----------------+\n",
      "\n",
      "Write Successfull\n"
     ]
    }
   ],
   "source": [
    "# Ratings per user versus Ratings per Movie\n",
    "\n",
    "query9 = \"\"\"with t1 as(\n",
    "          Select '1' as key, round((SUM(CASE when rating IS NOT NULL THEN 1 ELSE 0 END)/count(distinct userid)),2) as ratings_per_user\n",
    "          from RATINGS),\n",
    "          \n",
    "          t2 as ( Select '1' as key, round((sum(CASE WHEN rating IS NOT NULL THEN 1 ELSE 0 END)/count(distinct movieid)),2) as ratings_per_movie\n",
    "          from RATINGS)\n",
    "          \n",
    "          Select t1.ratings_per_user,t2.ratings_per_movie\n",
    "          from t1 inner join t2 on t1.key=t2.key\"\"\"\n",
    "\n",
    "\n",
    "output = spark.sql(query9)\n",
    "output.show()\n",
    "\n",
    "output.coalesce(1).write.mode(\"overwrite\").format('csv').option('header', 'true') .option('delimiter', ',').save('/tmp/spark_movie_analysis/output_9.csv')\n",
    "print(\"Write Successfull\")"
   ]
  },
  {
   "cell_type": "code",
   "execution_count": 17,
   "id": "bd77e26c-8d57-4332-afca-026c54348852",
   "metadata": {
    "tags": []
   },
   "outputs": [
    {
     "name": "stdout",
     "output_type": "stream",
     "text": [
      "+------+-------------------+\n",
      "|rating|most_frequent_genre|\n",
      "+------+-------------------+\n",
      "|   5.0|              Drama|\n",
      "|   4.5|              Drama|\n",
      "|   4.0|              Drama|\n",
      "|   3.5|             Comedy|\n",
      "|   3.0|             Comedy|\n",
      "|   2.5|             Comedy|\n",
      "|   2.0|             Comedy|\n",
      "|   1.5|             Comedy|\n",
      "|   1.0|             Comedy|\n",
      "|   0.5|             Comedy|\n",
      "+------+-------------------+\n",
      "\n",
      "Write Successfull\n"
     ]
    }
   ],
   "source": [
    "# Predominant Genre per rating level\n",
    "\n",
    "query10= \"\"\"with t1 as(\n",
    "          Select r.rating,m.genres,count(*) as counts,\n",
    "          dense_rank()over(partition by r.rating order by count(*) desc) as ranker\n",
    "          from RATINGS AS r\n",
    "          left join MOVIES as m\n",
    "          on r.movieID=m.movieID\n",
    "          group by 1,2)\n",
    "          \n",
    "          Select rating,genres as most_frequent_genre from t1 \n",
    "          where ranker=1\n",
    "          order by rating desc\"\"\"\n",
    "\n",
    "\n",
    "          \n",
    "\n",
    "output = spark.sql(query10)\n",
    "output.show()\n",
    "\n",
    "output.coalesce(1).write.mode(\"overwrite\").format('csv').option('header', 'true') .option('delimiter', ',').save('/tmp/spark_movie_analysis/output_10.csv')\n",
    "print(\"Write Successfull\")"
   ]
  },
  {
   "cell_type": "code",
   "execution_count": 18,
   "id": "55587e12-34d8-405f-850b-87f5a462b5ed",
   "metadata": {
    "tags": []
   },
   "outputs": [
    {
     "name": "stdout",
     "output_type": "stream",
     "text": [
      "+--------------------+-----------------+\n",
      "|              genres|most_frequent_tag|\n",
      "+--------------------+-----------------+\n",
      "|             Western|             NULL|\n",
      "|                 War|             NULL|\n",
      "|            Thriller|             NULL|\n",
      "|Sci-Fi|Thriller|IMAX|             NULL|\n",
      "|     Sci-Fi|Thriller|             NULL|\n",
      "|         Sci-Fi|IMAX|           sci-fi|\n",
      "|         Sci-Fi|IMAX|      time-travel|\n",
      "|              Sci-Fi|             NULL|\n",
      "|     Romance|Western|             NULL|\n",
      "|         Romance|War|        Hemingway|\n",
      "|    Romance|Thriller|             NULL|\n",
      "|Romance|Sci-Fi|Th...|             NULL|\n",
      "|Romance|Sci-Fi|Th...|            artsy|\n",
      "|Romance|Sci-Fi|Th...|        Beautiful|\n",
      "|Romance|Sci-Fi|Th...|      atmospheric|\n",
      "|Romance|Sci-Fi|Th...|   existentialism|\n",
      "|Romance|Sci-Fi|Th...|        dreamlike|\n",
      "|Romance|Sci-Fi|Th...|         artistic|\n",
      "|      Romance|Sci-Fi|             NULL|\n",
      "|             Romance|             NULL|\n",
      "+--------------------+-----------------+\n",
      "only showing top 20 rows\n",
      "\n",
      "Write Successfull\n"
     ]
    }
   ],
   "source": [
    "# Predominant tag per genre\n",
    "\n",
    "query11= \"\"\"with t1 as(\n",
    "          Select m.genres,t.tag,count(*) as counts,\n",
    "          dense_rank()over(partition by m.genres order by count(*) desc) as ranker\n",
    "          from MOVIES AS m\n",
    "          left join TAGS as t\n",
    "          on t.movieID=m.movieID\n",
    "          group by 1,2)\n",
    "          \n",
    "          Select genres,tag as most_frequent_tag from t1 \n",
    "          where ranker=1\n",
    "          order by genres desc\"\"\"\n",
    "\n",
    "\n",
    "          \n",
    "\n",
    "output = spark.sql(query11)\n",
    "output.show()\n",
    "\n",
    "output.coalesce(1).write.mode(\"overwrite\").format('csv').option('header', 'true') .option('delimiter', ',').save('/tmp/spark_movie_analysis/output_11.csv')\n",
    "print(\"Write Successfull\")"
   ]
  },
  {
   "cell_type": "code",
   "execution_count": 19,
   "id": "481524d0-378d-4d54-a220-ab729e75349e",
   "metadata": {
    "tags": []
   },
   "outputs": [
    {
     "name": "stderr",
     "output_type": "stream",
     "text": [
      "25/01/22 00:21:20 WARN WindowExec: No Partition Defined for Window operation! Moving all data to a single partition, this can cause serious performance degradation.\n",
      "25/01/22 00:21:20 WARN WindowExec: No Partition Defined for Window operation! Moving all data to a single partition, this can cause serious performance degradation.\n",
      "25/01/22 00:21:20 WARN WindowExec: No Partition Defined for Window operation! Moving all data to a single partition, this can cause serious performance degradation.\n",
      "25/01/22 00:21:21 WARN WindowExec: No Partition Defined for Window operation! Moving all data to a single partition, this can cause serious performance degradation.\n",
      "25/01/22 00:21:21 WARN WindowExec: No Partition Defined for Window operation! Moving all data to a single partition, this can cause serious performance degradation.\n",
      "25/01/22 00:21:21 WARN WindowExec: No Partition Defined for Window operation! Moving all data to a single partition, this can cause serious performance degradation.\n",
      "25/01/22 00:21:21 WARN WindowExec: No Partition Defined for Window operation! Moving all data to a single partition, this can cause serious performance degradation.\n",
      "25/01/22 00:21:22 WARN WindowExec: No Partition Defined for Window operation! Moving all data to a single partition, this can cause serious performance degradation.\n",
      "25/01/22 00:21:22 WARN WindowExec: No Partition Defined for Window operation! Moving all data to a single partition, this can cause serious performance degradation.\n",
      "25/01/22 00:21:22 WARN WindowExec: No Partition Defined for Window operation! Moving all data to a single partition, this can cause serious performance degradation.\n",
      "25/01/22 00:21:22 WARN WindowExec: No Partition Defined for Window operation! Moving all data to a single partition, this can cause serious performance degradation.\n",
      "25/01/22 00:21:22 WARN WindowExec: No Partition Defined for Window operation! Moving all data to a single partition, this can cause serious performance degradation.\n",
      "25/01/22 00:21:22 WARN WindowExec: No Partition Defined for Window operation! Moving all data to a single partition, this can cause serious performance degradation.\n",
      "25/01/22 00:21:22 WARN WindowExec: No Partition Defined for Window operation! Moving all data to a single partition, this can cause serious performance degradation.\n"
     ]
    },
    {
     "name": "stdout",
     "output_type": "stream",
     "text": [
      "+--------------------+------+\n",
      "|               title|counts|\n",
      "+--------------------+------+\n",
      "| Forrest Gump (1994)|   329|\n",
      "|Shawshank Redempt...|   317|\n",
      "| Pulp Fiction (1994)|   307|\n",
      "|Silence of the La...|   279|\n",
      "|  Matrix, The (1999)|   278|\n",
      "|Star Wars: Episod...|   251|\n",
      "|Jurassic Park (1993)|   238|\n",
      "|   Braveheart (1995)|   237|\n",
      "|Terminator 2: Jud...|   224|\n",
      "|Schindler's List ...|   220|\n",
      "+--------------------+------+\n",
      "\n"
     ]
    },
    {
     "name": "stderr",
     "output_type": "stream",
     "text": [
      "25/01/22 00:21:22 WARN WindowExec: No Partition Defined for Window operation! Moving all data to a single partition, this can cause serious performance degradation.\n",
      "25/01/22 00:21:22 WARN WindowExec: No Partition Defined for Window operation! Moving all data to a single partition, this can cause serious performance degradation.\n",
      "25/01/22 00:21:23 WARN WindowExec: No Partition Defined for Window operation! Moving all data to a single partition, this can cause serious performance degradation.\n",
      "25/01/22 00:21:23 WARN WindowExec: No Partition Defined for Window operation! Moving all data to a single partition, this can cause serious performance degradation.\n",
      "25/01/22 00:21:23 WARN WindowExec: No Partition Defined for Window operation! Moving all data to a single partition, this can cause serious performance degradation.\n",
      "25/01/22 00:21:23 WARN WindowExec: No Partition Defined for Window operation! Moving all data to a single partition, this can cause serious performance degradation.\n",
      "25/01/22 00:21:23 WARN WindowExec: No Partition Defined for Window operation! Moving all data to a single partition, this can cause serious performance degradation.\n",
      "25/01/22 00:21:23 WARN WindowExec: No Partition Defined for Window operation! Moving all data to a single partition, this can cause serious performance degradation.\n"
     ]
    },
    {
     "name": "stdout",
     "output_type": "stream",
     "text": [
      "Write Successfull\n"
     ]
    }
   ],
   "source": [
    "query12 = \"\"\"with t1 as(\n",
    "          Select r.movieID,m.title,count(distinct r.userID) as counts,\n",
    "          dense_rank()over(order by count(distinct r.userid) desc) as ranker\n",
    "          from RATINGS as r\n",
    "          left join MOVIES as m\n",
    "          on r.movieID=m.movieID\n",
    "          group by 1,2)\n",
    "          \n",
    "          Select title,counts from t1 \n",
    "          where ranker<=10\n",
    "          \"\"\"          \n",
    "\n",
    "output = spark.sql(query12)\n",
    "output.show()\n",
    "\n",
    "\n",
    "output.coalesce(1).write.mode(\"overwrite\").format('csv').option('header', 'true') .option('delimiter', ',').save('/tmp/spark_movie_analysis/output_12.csv')\n",
    "print(\"Write Successfull\")"
   ]
  },
  {
   "cell_type": "code",
   "execution_count": 20,
   "id": "56bddda9-6750-4bc1-b2ca-799e0f998589",
   "metadata": {
    "tags": []
   },
   "outputs": [
    {
     "name": "stderr",
     "output_type": "stream",
     "text": [
      "25/01/22 00:21:24 WARN WindowExec: No Partition Defined for Window operation! Moving all data to a single partition, this can cause serious performance degradation.\n",
      "25/01/22 00:21:24 WARN WindowExec: No Partition Defined for Window operation! Moving all data to a single partition, this can cause serious performance degradation.\n",
      "25/01/22 00:21:24 WARN WindowExec: No Partition Defined for Window operation! Moving all data to a single partition, this can cause serious performance degradation.\n",
      "25/01/22 00:21:24 WARN WindowExec: No Partition Defined for Window operation! Moving all data to a single partition, this can cause serious performance degradation.\n",
      "25/01/22 00:21:25 WARN WindowExec: No Partition Defined for Window operation! Moving all data to a single partition, this can cause serious performance degradation.\n",
      "25/01/22 00:21:25 WARN WindowExec: No Partition Defined for Window operation! Moving all data to a single partition, this can cause serious performance degradation.\n",
      "25/01/22 00:21:25 WARN WindowExec: No Partition Defined for Window operation! Moving all data to a single partition, this can cause serious performance degradation.\n",
      "25/01/22 00:21:25 WARN WindowExec: No Partition Defined for Window operation! Moving all data to a single partition, this can cause serious performance degradation.\n",
      "25/01/22 00:21:25 WARN WindowExec: No Partition Defined for Window operation! Moving all data to a single partition, this can cause serious performance degradation.\n",
      "25/01/22 00:21:25 WARN WindowExec: No Partition Defined for Window operation! Moving all data to a single partition, this can cause serious performance degradation.\n"
     ]
    },
    {
     "name": "stdout",
     "output_type": "stream",
     "text": [
      "+--------------------+-----------+------+\n",
      "|               title| avg_rating|ranker|\n",
      "+--------------------+-----------+------+\n",
      "|Shawshank Redempt...|4.429022082|     1|\n",
      "|Lawrence of Arabi...|        4.3|     2|\n",
      "|Godfather, The (1...|  4.2890625|     3|\n",
      "|   Fight Club (1999)| 4.27293578|     4|\n",
      "|Cool Hand Luke (1...|4.271929825|     5|\n",
      "|Dr. Strangelove o...|4.268041237|     6|\n",
      "|  Rear Window (1954)|4.261904762|     7|\n",
      "|Godfather: Part I...|4.259689922|     8|\n",
      "|Departed, The (2006)|4.252336449|     9|\n",
      "|   Goodfellas (1990)|       4.25|    10|\n",
      "+--------------------+-----------+------+\n",
      "\n"
     ]
    },
    {
     "name": "stderr",
     "output_type": "stream",
     "text": [
      "25/01/22 00:21:25 WARN WindowExec: No Partition Defined for Window operation! Moving all data to a single partition, this can cause serious performance degradation.\n",
      "25/01/22 00:21:25 WARN WindowExec: No Partition Defined for Window operation! Moving all data to a single partition, this can cause serious performance degradation.\n",
      "25/01/22 00:21:26 WARN WindowExec: No Partition Defined for Window operation! Moving all data to a single partition, this can cause serious performance degradation.\n",
      "25/01/22 00:21:26 WARN WindowExec: No Partition Defined for Window operation! Moving all data to a single partition, this can cause serious performance degradation.\n",
      "25/01/22 00:21:26 WARN WindowExec: No Partition Defined for Window operation! Moving all data to a single partition, this can cause serious performance degradation.\n",
      "25/01/22 00:21:26 WARN WindowExec: No Partition Defined for Window operation! Moving all data to a single partition, this can cause serious performance degradation.\n",
      "25/01/22 00:21:26 WARN WindowExec: No Partition Defined for Window operation! Moving all data to a single partition, this can cause serious performance degradation.\n",
      "25/01/22 00:21:26 WARN WindowExec: No Partition Defined for Window operation! Moving all data to a single partition, this can cause serious performance degradation.\n",
      "25/01/22 00:21:26 WARN WindowExec: No Partition Defined for Window operation! Moving all data to a single partition, this can cause serious performance degradation.\n",
      "25/01/22 00:21:26 WARN WindowExec: No Partition Defined for Window operation! Moving all data to a single partition, this can cause serious performance degradation.\n"
     ]
    },
    {
     "name": "stdout",
     "output_type": "stream",
     "text": [
      "Write Successfull\n"
     ]
    }
   ],
   "source": [
    "# Top 10 movies in terms of avg rating (>30 users reviewed)\n",
    "\n",
    "query13= \"\"\"with t1 as(\n",
    "          Select movieid,avg(rating) as avg_rating,\n",
    "          dense_rank()over (order by avg(rating) desc) as ranker\n",
    "          from RATINGS\n",
    "          group by 1\n",
    "          having count(distinct userID)>30)\n",
    "          \n",
    "          Select m.title,round(t1.avg_rating,9) as avg_rating,t1.ranker from t1\n",
    "          left join MOVIES as m\n",
    "          on t1.movieID=m.movieID\n",
    "          where ranker<=10\n",
    "          \"\"\"\n",
    "output = spark.sql(query13)\n",
    "output.show()\n",
    "\n",
    "output.coalesce(1).write.mode(\"overwrite\").format('csv').option('header', 'true') .option('delimiter', ',').save('/tmp/spark_movie_analysis/output_13.csv')\n",
    "print(\"Write Successfull\")\n"
   ]
  },
  {
   "cell_type": "code",
   "execution_count": null,
   "id": "e8e95dac-10a6-4e47-a034-d3ba5279d306",
   "metadata": {},
   "outputs": [],
   "source": []
  },
  {
   "cell_type": "code",
   "execution_count": null,
   "id": "0755c5e7-1a08-4e36-98ed-71366857c872",
   "metadata": {},
   "outputs": [],
   "source": []
  }
 ],
 "metadata": {
  "kernelspec": {
   "display_name": "PySpark",
   "language": "python",
   "name": "pyspark"
  },
  "language_info": {
   "codemirror_mode": {
    "name": "ipython",
    "version": 3
   },
   "file_extension": ".py",
   "mimetype": "text/x-python",
   "name": "python",
   "nbconvert_exporter": "python",
   "pygments_lexer": "ipython3",
   "version": "3.11.8"
  }
 },
 "nbformat": 4,
 "nbformat_minor": 5
}
